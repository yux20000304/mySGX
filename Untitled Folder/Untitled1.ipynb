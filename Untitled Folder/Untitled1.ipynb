{
 "cells": [
  {
   "cell_type": "markdown",
   "metadata": {},
   "source": [
    "# 个人对于SGX感兴趣的方向\n",
    "\n",
    "## SGX的性能探究以及提升\n",
    "\n",
    ">+ 在阅读了一些文献之后，这个方面很少有人关注，大部分都集中在如何改善加密方式或者预防各种攻击或者是一些把SGX应用到某种平台上。个人觉得可以针对SGX部署之后的性能分析以及提升方面进行研究，最终目标是帮助用户在云端高效合理使用SGX保护措施。\n",
    ">+ **SGX的性能瓶颈**\n",
    ">1. ecall和ocall花费的时间（没有传参都已经是系统调用的35倍了）\n",
    ">2. 缓冲区buffer的大小产生的时间（缓冲区64kb是一个分界点）\n",
    ">3. 缺页之后换页产生的时间（这个感觉是cache预测要做的事情，方法就很多了）\n",
    ">4. 每次创建新的enclave时需要花费的时间\n",
    ">5. 每次删除enclave需要的时间\n",
    ">6. 在enclave或者是正常程序中进行内存申请（64byte是一个分界点）\n",
    ">+ "
   ]
  }
 ],
 "metadata": {
  "kernelspec": {
   "display_name": "Python 3",
   "language": "python",
   "name": "python3"
  },
  "language_info": {
   "codemirror_mode": {
    "name": "ipython",
    "version": 3
   },
   "file_extension": ".py",
   "mimetype": "text/x-python",
   "name": "python",
   "nbconvert_exporter": "python",
   "pygments_lexer": "ipython3",
   "version": "3.8.5"
  }
 },
 "nbformat": 4,
 "nbformat_minor": 4
}
