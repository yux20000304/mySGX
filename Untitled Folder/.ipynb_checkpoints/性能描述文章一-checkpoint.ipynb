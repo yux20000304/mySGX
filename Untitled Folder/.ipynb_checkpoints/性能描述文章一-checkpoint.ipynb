{
 "cells": [
  {
   "cell_type": "markdown",
   "metadata": {},
   "source": [
    "# Performance of Trusted Computing in Cloud Infrastructures with Intel SGX\n",
    "\n",
    "## 文章结构\n",
    " * 1.文章综述\n",
    "   > 实验目的，针对如何构建基于云的SaaS系统提出指导性建议\n",
    " * 2.介绍SGX微观体系结构\n",
    "   >+ 介绍了SGX通过EENTER指令来进入enclave中,以及如何通过SDK把外部的参数通过缓存区传给enclave\n",
    "   >+ 介绍了通过退出enclave和异步退出enclave的情况\n",
    "   >+介绍了enclave区域的创建过程\n",
    " * 3.介绍了进行的几个测试的具体细节\n",
    "   \n",
    "   >+ 测量进出enclave花费的总时间（难点：由于没有内部的计时函数，只能通过在应用层设置两个gettime函数来获取进出时间），下图是作者使用的测量方法：\n",
    "   ![gettime](./images/gettime.png)\n",
    "   \n",
    "   >+ 作者认为影响到进出enclave的一个重要因素是需要放入缓冲区的数据的大小，因此专门针对不同缓冲区大小的enclave进入时间进行的测试，得到的结果如下图：\n",
    "   ![buffersize](./images/buffersize.png)\n",
    "   通过这张图我们可以看到在缓冲区大小小于64kb的时候，对于进入enclave的时间影响几乎没有变化，在超过64kb的时候，缓冲区大小和进出时间呈线性关系。作者猜想是小于64kb的已经加载在EPC页面中了（个人感觉这里的意思就是会先分配64kb的一个EPC页面，如果需要的缓冲区比这个大，就会发生从外部复制的操作，造成时间延迟激增）\n",
    "   \n",
    "   >+ 针对PRM和不受保护的常规DRAM之间发生的页面交换的行为对于延迟的影响，这里的横轴是系统的运行时间，纵轴是延迟时间，图中的红点代表了页面从EPC驱逐为DRAM，黑线代表了EPC发生了页错误，绿线代表了写入EPC内存中特定地址需要花费的时间，这些延迟都包括了进入enclave需要的基础时间，最终做出的结果如下图：\n",
    "   ![paging](./images/paging.png)\n",
    "   这里作者为了实现页面访问发生故障，把整个enclave设置为了256MB（两倍于EPC内存容量），按照每4kb的大小逐渐递增地址，进行写入操作，作者发现了页面发生驱逐事件和用户级写入之间的强烈关系，这说明从DRAM加载到EPC中会发生很大的时间延迟，这是由于驱逐页面这个行为会导致发生AEX。\n",
    "   \n",
    "   >+ 同时创建多个enclave所需要的时间成本也很重要作者接下来试验了通过创建不同数量的各种大小的enclave所需要花费的时间，得到的结果如下图：\n",
    "   ![enclaveslatency](./images/enclaves-latency.png)\n",
    "   在这个图中我们可以看到在小于64kb的时候供应成本几乎是相同的，当大于64kb的时候，斜率有了显著的增加，这也说明了之前在第一个实验中我们得出的结论是正确的。\n",
    " * 4.针对调查结果进行讨论\n",
    "     >+ 针对以上实验得出的结论，我们在构建云服务器的时候需要考虑这几个特性：进出enclave的时间，创建或者提供新的enclave的时间以及内存使用的成本。\n",
    "     \n",
    "     - **建议一：在编写程序的时候需要最小化需要复制的参数个数。**\n",
    "     这意味着尽量将所有的功能放在一个enclave中，这会造成enclave占用的内存很大，但是和我们实验二中的结论相冲突，实验二中测量的是EPC内存页面和DRAM进行内存交换需要的时间。\n",
    "     - **建议二：每一块enclave不超过64kb**\n",
    "     - **建议三：提前知晓应用的内存消耗以及访问模式从而减少页面驱逐事件的发生**\n",
    "     创造enclave是十分花费时间，操作系统为了减少这种情况，根据使用模式对enclave预分配，把使用过的enclave都放在一个公共池里面，这是会破坏隔离保障。\n",
    "     - **建议四：能够准确预测enclave用量的应用程序的使用者需要在一次性资源池中预先设置enclave，保证不会出现重复使用的情况。**\n",
    "     除此以外，创建enclave的成本需要考虑SECS，TCS，SSA这些数据结构在一开始初始化的具体操作。\n",
    "     - **建议五：应用程序应该要考虑预期用途所需要的隔离力度，更细的隔离力度意味着更多的数据结构以及额外的成本。**\n",
    "     \n",
    "     \n",
    " * 5.提出了几点建议并总结"
   ]
  }
 ],
 "metadata": {
  "kernelspec": {
   "display_name": "Python 3",
   "language": "python",
   "name": "python3"
  },
  "language_info": {
   "codemirror_mode": {
    "name": "ipython",
    "version": 3
   },
   "file_extension": ".py",
   "mimetype": "text/x-python",
   "name": "python",
   "nbconvert_exporter": "python",
   "pygments_lexer": "ipython3",
   "version": "3.8.5"
  }
 },
 "nbformat": 4,
 "nbformat_minor": 4
}
