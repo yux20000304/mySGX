{
 "cells": [
  {
   "cell_type": "markdown",
   "metadata": {},
   "source": [
    "# 个人对于SGX感兴趣的方向\n",
    "\n",
    "## SGX的性能探究以及提升\n",
    "\n",
    ">+ 在阅读了一些文献之后，这个方面很少有人关注，大部分都集中在如何改善加密方式或者预防各种攻击或者是一些把SGX应用到某种平台上。个人觉得\n",
    ">+ **SGX的性能瓶颈：**ecall和ocall花费的时间，缓冲区buffer的大小产生的时间，换页产生的时间。\n",
    ">+ "
   ]
  }
 ],
 "metadata": {
  "kernelspec": {
   "display_name": "Python 3",
   "language": "python",
   "name": "python3"
  },
  "language_info": {
   "codemirror_mode": {
    "name": "ipython",
    "version": 3
   },
   "file_extension": ".py",
   "mimetype": "text/x-python",
   "name": "python",
   "nbconvert_exporter": "python",
   "pygments_lexer": "ipython3",
   "version": "3.8.5"
  }
 },
 "nbformat": 4,
 "nbformat_minor": 4
}
